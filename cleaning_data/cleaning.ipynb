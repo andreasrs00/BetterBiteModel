{
 "cells": [
  {
   "cell_type": "code",
   "execution_count": null,
   "id": "5b1e33f1",
   "metadata": {},
   "outputs": [],
   "source": [
    "import pandas as pd"
   ]
  },
  {
   "cell_type": "code",
   "execution_count": null,
   "id": "537799ae",
   "metadata": {},
   "outputs": [],
   "source": [
    "df = pd.read_csv('all_food_data_with_servings.csv')"
   ]
  },
  {
   "cell_type": "code",
   "execution_count": null,
   "id": "efeec97d",
   "metadata": {},
   "outputs": [],
   "source": [
    "print(\"Data sebelum pembersihan:\")\n",
    "print(df.head())"
   ]
  },
  {
   "cell_type": "code",
   "execution_count": null,
   "id": "35617dc7",
   "metadata": {},
   "outputs": [],
   "source": [
    "# 2. Hapus baris duplikat (jika ada)\n",
    "df_cleaned = df.drop_duplicates()"
   ]
  },
  {
   "cell_type": "code",
   "execution_count": null,
   "id": "94b69920",
   "metadata": {},
   "outputs": [],
   "source": [
    "# Tampilkan DataFrame setelah menghapus duplikat\n",
    "print(\"\\nData setelah menghapus duplikat:\")\n",
    "print(df_cleaned.head())"
   ]
  },
  {
   "cell_type": "code",
   "execution_count": null,
   "id": "9d2bc54b",
   "metadata": {},
   "outputs": [],
   "source": [
    "# 3. Identifikasi kolom numerik\n",
    "numeric_cols = df_cleaned.select_dtypes(include=['float64', 'int64']).columns"
   ]
  },
  {
   "cell_type": "code",
   "execution_count": null,
   "id": "ea672710",
   "metadata": {},
   "outputs": [],
   "source": [
    "# 4. Isi nilai kosong (NaN) dengan nilai rata-rata kolom untuk kolom numerik\n",
    "df_filled = df_cleaned.fillna(0)"
   ]
  },
  {
   "cell_type": "code",
   "execution_count": null,
   "id": "e0c2ccc8",
   "metadata": {},
   "outputs": [],
   "source": [
    "# Tampilkan DataFrame setelah mengisi nilai kosong\n",
    "print(\"\\nData setelah mengisi nilai kosong dengan rata-rata:\")\n",
    "print(df_filled.head())"
   ]
  },
  {
   "cell_type": "code",
   "execution_count": null,
   "id": "20bf59f3",
   "metadata": {},
   "outputs": [],
   "source": [
    "# 5. Cek apakah masih ada nilai kosong\n",
    "missing_values = df_cleaned.isnull().sum()\n",
    "print(\"\\nMissing values setelah pembersihan:\")\n",
    "print(missing_values[missing_values > 0])"
   ]
  },
  {
   "cell_type": "code",
   "execution_count": null,
   "id": "8521a165",
   "metadata": {},
   "outputs": [],
   "source": [
    "# 6. Simpan hasil cleaning ke file baru\n",
    "df_filled.to_csv(\"all_food_data_cleaned.csv\", index=False)\n",
    "print(\"\\nDataset berhasil dibersihkan dan disimpan sebagai 'all_food_data_cleaned.csv'\")"
   ]
  },
  {
   "cell_type": "code",
   "execution_count": null,
   "id": "41323d74",
   "metadata": {},
   "outputs": [],
   "source": [
    "df = pd.read_csv('all_food_data_cleaned.csv')\n",
    "excel_file = \"all_food_data_cleaned.xlsx\"\n",
    "df.to_excel(excel_file, index=False)\n",
    "\n",
    "print(f\"{excel_file} berhasil dibuat dalam format Excel ✅\")"
   ]
  }
 ],
 "metadata": {
  "kernelspec": {
   "display_name": "Python 3",
   "language": "python",
   "name": "python3"
  },
  "language_info": {
   "name": "python",
   "version": "3.10.9"
  }
 },
 "nbformat": 4,
 "nbformat_minor": 5
}
